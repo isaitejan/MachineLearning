{
 "cells": [
  {
   "cell_type": "code",
   "execution_count": 1,
   "id": "63f108bc",
   "metadata": {
    "scrolled": true
   },
   "outputs": [
    {
     "name": "stdout",
     "output_type": "stream",
     "text": [
      "[19, 19, 20, 22, 24, 24, 24, 25, 25, 26]\n",
      "Minimum Age: 19\n",
      "Maximum Age: 26\n",
      "-------------------------------------------------------------------------------------------\n",
      "Ages List after adding min age and max age: [19, 19, 20, 22, 24, 24, 24, 25, 25, 26, 19, 26]\n",
      "-------------------------------------------------------------------------------------------\n",
      "Median of list ages: 24.0\n",
      "-------------------------------------------------------------------------------------------\n",
      "Average of the list ages: 22.75\n",
      "-------------------------------------------------------------------------------------------\n",
      "Range of ages: 7\n"
     ]
    }
   ],
   "source": [
    "import statistics\n",
    "ages = [19, 22, 19, 24, 20, 25, 26, 24, 25, 24]\n",
    "ages.sort() #sorting the ages list\n",
    "print(ages)\n",
    "min_age = ages[0] #storing the min age in min_age variable\n",
    "max_age = ages[-1] #storing the max age in max_age variable\n",
    "print(\"Minimum Age:\",min_age)\n",
    "print(\"Maximum Age:\",max_age)\n",
    "print(\"-------------------------------------------------------------------------------------------\")\n",
    "ages.append(min_age) #adding the min age to the ages list\n",
    "ages.append(max_age) #adding the max age to the ages list\n",
    "print(\"Ages List after adding min age and max age:\",ages)\n",
    "print(\"-------------------------------------------------------------------------------------------\")\n",
    "print(\"Median of list ages:\",statistics.median(ages)) #finding out the median of the ages list\n",
    "print(\"-------------------------------------------------------------------------------------------\")\n",
    "print(\"Average of the list ages:\",sum(ages)/len(ages)) #finding out the averages of the ages list\n",
    "print(\"-------------------------------------------------------------------------------------------\")\n",
    "print(\"Range of ages:\",max_age-min_age) #finding out the range of ages"
   ]
  },
  {
   "cell_type": "code",
   "execution_count": 2,
   "id": "ddb9fde7",
   "metadata": {},
   "outputs": [
    {
     "name": "stdout",
     "output_type": "stream",
     "text": [
      "<class 'dict'>\n",
      "-------------------------------------------------------------------------------------------\n",
      "{'name': 'jimmy', 'color': 'white', 'breed': 'bulldog', 'legs': 4, 'age': 12}\n",
      "-------------------------------------------------------------------------------------------\n",
      "{'first_name': 'sai teja', 'last_name': 'nadakuditi', 'gender': 'male', 'age': 25, 'marital_status': 'Unmarried', 'skills': ['MongoDB', 'React', 'Node', 'Express'], 'country': 'United States', 'city': 'Overland Park', 'address': {'street': '141st St', 'City': 'Overland Park', 'Zipcode': 66223}}\n",
      "-------------------------------------------------------------------------------------------\n",
      "Length of student dictionary: 9\n",
      "-------------------------------------------------------------------------------------------\n",
      "['MongoDB', 'React', 'Node', 'Express']\n",
      "<class 'list'>\n",
      "-------------------------------------------------------------------------------------------\n",
      "['MongoDB', 'React', 'Node', 'Express', 'Java', 'Machine Learning']\n",
      "-------------------------------------------------------------------------------------------\n",
      "Student dictionary keys as a list:  dict_keys(['first_name', 'last_name', 'gender', 'age', 'marital_status', 'skills', 'country', 'city', 'address'])\n",
      "Student dictionary values as a list:  dict_values(['sai teja', 'nadakuditi', 'male', 25, 'Unmarried', ['MongoDB', 'React', 'Node', 'Express', 'Java', 'Machine Learning'], 'United States', 'Overland Park', {'street': '141st St', 'City': 'Overland Park', 'Zipcode': 66223}])\n",
      "-------------------------------------------------------------------------------------------\n"
     ]
    }
   ],
   "source": [
    "dog = {}\n",
    "print(type(dog)) #printing the type of dog\n",
    "print(\"-------------------------------------------------------------------------------------------\")\n",
    "dog[\"name\"] = \"jimmy\" #assigning key-value pairs to the dog dictionary\n",
    "dog[\"color\"] = \"white\"\n",
    "dog[\"breed\"] = \"bulldog\"\n",
    "dog[\"legs\"] = 4\n",
    "dog[\"age\"] = 12\n",
    "print(dog)\n",
    "print(\"-------------------------------------------------------------------------------------------\")\n",
    "student = {} #creating student dictionary\n",
    "student[\"first_name\"] = \"sai teja\"\n",
    "student[\"last_name\"] = \"nadakuditi\"\n",
    "student[\"gender\"] = \"male\"\n",
    "student[\"age\"] = 25 #assigning key-value pairs to student dictionary\n",
    "student[\"marital_status\"] = \"Unmarried\"\n",
    "student[\"skills\"] = ['MongoDB','React','Node','Express']\n",
    "student[\"country\"] = \"United States\"\n",
    "student[\"city\"] = \"Overland Park\"\n",
    "student[\"address\"] = {\"street\": \"141st St\",\"City\": \"Overland Park\",\"Zipcode\": 66223}\n",
    "print(student)\n",
    "print(\"-------------------------------------------------------------------------------------------\")\n",
    "print(\"Length of student dictionary:\",len(student)) #printing the length of the student dictionary\n",
    "print(\"-------------------------------------------------------------------------------------------\")\n",
    "print(student[\"skills\"]) \n",
    "print(type(student[\"skills\"])) #student dictionary contains skills as a list\n",
    "print(\"-------------------------------------------------------------------------------------------\")\n",
    "student[\"skills\"].append(\"Java\") #adding java skill to the skills list\n",
    "student[\"skills\"].append(\"Machine Learning\")\n",
    "print(student[\"skills\"])\n",
    "print(\"-------------------------------------------------------------------------------------------\")\n",
    "print(\"Student dictionary keys as a list: \",student.keys()) #printing out the keys of student dictionary\n",
    "print(\"Student dictionary values as a list: \",student.values()) #printing out the values of student dictionary\n",
    "print(\"-------------------------------------------------------------------------------------------\")"
   ]
  },
  {
   "cell_type": "code",
   "execution_count": 3,
   "id": "2b64daf3",
   "metadata": {},
   "outputs": [
    {
     "name": "stdout",
     "output_type": "stream",
     "text": [
      "('Rohith', 'Vishanth Sai', 'Bindu Sree', 'Midhuna')\n",
      "------------------------------------------------------------------------------------------------\n",
      "No of Siblings:  4\n",
      "------------------------------------------------------------------------------------------------\n",
      "('Rohith', 'Vishanth Sai', 'Bindu Sree', 'Midhuna', 'Govinda Rajulu', 'Malleswari')\n"
     ]
    }
   ],
   "source": [
    "sisters = (\"Bindu Sree\",\"Midhuna\") #sisters tuple\n",
    "brothers = (\"Rohith\",\"Vishanth Sai\") #brothers tuple\n",
    "siblings = brothers + sisters #concatinating the sisters and brothers tuples\n",
    "print(siblings)\n",
    "print(\"------------------------------------------------------------------------------------------------\")\n",
    "print(\"No of Siblings: \",len(siblings)) #printing the length of the siblings tuple\n",
    "print(\"------------------------------------------------------------------------------------------------\")\n",
    "siblings_list = list(siblings) #converting the siblings tuple to list\n",
    "siblings_list.append(\"Govinda Rajulu\") #modifying the list\n",
    "siblings_list.append(\"Malleswari\")\n",
    "family_members = tuple(siblings_list) #converting the list into tuple\n",
    "print(family_members)"
   ]
  },
  {
   "cell_type": "code",
   "execution_count": 4,
   "id": "0be77469",
   "metadata": {},
   "outputs": [
    {
     "name": "stdout",
     "output_type": "stream",
     "text": [
      "Length of the set it_companies:  7\n",
      "------------------------------------------------------------------------------------------------\n",
      "{'Google', 'Oracle', 'Twitter', 'Amazon', 'Facebook', 'Microsoft', 'Apple', 'IBM'}\n",
      "------------------------------------------------------------------------------------------------\n",
      "{'Oracle', 'Twitter', 'IBM', 'Google', 'Facebook', 'Apple', 'Infosys', 'Alpha', 'Amazon', 'Microsoft', 'Tesla'}\n",
      "------------------------------------------------------------------------------------------------\n",
      "{'Oracle', 'Twitter', 'IBM', 'Google', 'Facebook', 'Apple', 'Infosys', 'Alpha', 'Microsoft', 'Tesla'}\n",
      "------------------------------------------------------------------------------------------------\n",
      "------------------------------------------------------------------------------------------------\n",
      "Union of A and B:  {19, 20, 22, 24, 25, 26, 27, 28}\n",
      "------------------------------------------------------------------------------------------------\n",
      "Intersection of A and B:  {19, 20, 22, 24, 25, 26}\n",
      "------------------------------------------------------------------------------------------------\n",
      "Is A subset of B:  True\n",
      "------------------------------------------------------------------------------------------------\n",
      "Are A and B disjoint sets:  False\n",
      "------------------------------------------------------------------------------------------------\n",
      "After joining A with B:  {19, 20, 22, 24, 25, 26, 27, 28}\n",
      "------------------------------------------------------------------------------------------------\n",
      "After joining B with A:  {19, 20, 22, 24, 25, 26, 27, 28}\n",
      "------------------------------------------------------------------------------------------------\n",
      "Symmetric difference of A and B:  {27, 28}\n",
      "------------------------------------------------------------------------------------------------\n",
      "------------------------------------------------------------------------------------------------\n",
      "Length of list age:  8\n",
      "Length of age_set is:  5\n",
      "------------------------------------------------------------------------------------------------\n"
     ]
    }
   ],
   "source": [
    "it_companies = {'Facebook', 'Google', 'Microsoft', 'Apple', 'IBM', 'Oracle', 'Amazon'}\n",
    "A = {19, 22, 24, 20, 25, 26}\n",
    "B = {19, 22, 20, 25, 26, 24, 28, 27}\n",
    "age = [22, 19, 24, 25, 26, 24, 25, 24]\n",
    "print(\"Length of the set it_companies: \",len(it_companies)) #printing the length of the set it_companies\n",
    "print(\"------------------------------------------------------------------------------------------------\")\n",
    "it_companies.add(\"Twitter\") #adding twitter to the set it_companies\n",
    "print(it_companies)\n",
    "print(\"------------------------------------------------------------------------------------------------\")\n",
    "it_companies.update([\"Alpha\",\"Infosys\",\"Tesla\"]) #adding multiple companies to the set it_companies\n",
    "print(it_companies)\n",
    "print(\"------------------------------------------------------------------------------------------------\")\n",
    "it_companies.remove(\"Amazon\") #removing the company Amazon from the set it_companies\n",
    "print(it_companies)\n",
    "print(\"------------------------------------------------------------------------------------------------\")\n",
    "'''it_companies.remove(\"Amazon\")''' #if we try to remove Amazon again, we will get an error as it is not present in the set\n",
    "it_companies.discard(\"Amazon\") #if we use discard, then we dont get any error even if it is not present in the set\n",
    "'''remove method raises an error when the element not exists in the set. where as discard does not raise any error\n",
    "even if the element is not found in the set'''\n",
    "print(\"------------------------------------------------------------------------------------------------\")\n",
    "#C = A.union(B)\n",
    "C = A | B #this performs the union of A and B sets\n",
    "print(\"Union of A and B: \",C)\n",
    "print(\"------------------------------------------------------------------------------------------------\")\n",
    "#D = A.intersection(B)\n",
    "D = A & B #this performs the intersection of A and B sets\n",
    "print(\"Intersection of A and B: \",D)\n",
    "print(\"------------------------------------------------------------------------------------------------\")\n",
    "print(\"Is A subset of B: \",A.issubset(B)) #it will check if A is subset of B\n",
    "print(\"------------------------------------------------------------------------------------------------\")\n",
    "print(\"Are A and B disjoint sets: \",A.isdisjoint(B)) #it will check whether the intersection of A and B is null or not\n",
    "print(\"------------------------------------------------------------------------------------------------\")\n",
    "print(\"After joining A with B: \",A.union(B)) #joining A with B\n",
    "print(\"------------------------------------------------------------------------------------------------\")\n",
    "print(\"After joining B with A: \",B.union(A)) #joining B with A\n",
    "print(\"------------------------------------------------------------------------------------------------\")\n",
    "print(\"Symmetric difference of A and B: \",A.symmetric_difference(B)) #it will print the compliment of A intersection B\n",
    "print(\"------------------------------------------------------------------------------------------------\")\n",
    "del it_companies #deleting the set it_companies\n",
    "del A  #deleting the set A\n",
    "del B  #deleting the set B\n",
    "del C  #deleting the set C\n",
    "del D  #deleting the set D\n",
    "print(\"------------------------------------------------------------------------------------------------\")\n",
    "age_set = set(age) #converting the age list into a set\n",
    "print(\"Length of list age: \",len(age)) #printing the length of the age\n",
    "print(\"Length of age_set is: \",len(age_set)) #printing the length of age_set\n",
    "print(\"------------------------------------------------------------------------------------------------\")"
   ]
  },
  {
   "cell_type": "code",
   "execution_count": 5,
   "id": "1a422c7e",
   "metadata": {},
   "outputs": [
    {
     "name": "stdout",
     "output_type": "stream",
     "text": [
      "Area of circle with radius 30 is:  2826.0\n",
      "Circumfrence of a circle with radius 30 is:  188.4\n",
      "Enter radius: 3\n",
      "Area of circle with radius 3.0  is:  28.259999999999998\n"
     ]
    }
   ],
   "source": [
    "radius = 30 #initialising radius as 30\n",
    "_area_of_circle_ = 3.14*(radius*radius) #calculating the area of circle using the formula pie*r*r\n",
    "print(\"Area of circle with radius 30 is: \",_area_of_circle_)\n",
    "_circum_of_circle_ = 2*3.14*radius #calculating the circumfrence of circle using the formula 2*pie*r\n",
    "print(\"Circumfrence of a circle with radius 30 is: \",_circum_of_circle_)\n",
    "rad = float(input(\"Enter radius: \")) #taking the radius as input from user \n",
    "print(\"Area of circle with radius\",rad,\" is: \",3.14*rad*rad) #calculating the area of circle for the given radius"
   ]
  },
  {
   "cell_type": "code",
   "execution_count": 6,
   "id": "fbaaafae",
   "metadata": {},
   "outputs": [
    {
     "name": "stdout",
     "output_type": "stream",
     "text": [
      "No of unique words from the sentence is:  10\n",
      "Unique words from the sentence is:  {'a', 'am', 'to', 'teacher', 'and', 'people', 'teach', 'I', 'love', 'inspire'}\n"
     ]
    }
   ],
   "source": [
    "sentence = \"I am a teacher and I love to inspire and teach people\" #given sentence\n",
    "words = sentence.split(\" \") #splitting the sentence using the space as a delimiter\n",
    "words_set = set(words) #eliminating the duplicate words by converting it into set\n",
    "print(\"No of unique words from the sentence is: \",len(words_set)) #printing the length of set\n",
    "print(\"Unique words from the sentence is: \",words_set) #printing the set"
   ]
  },
  {
   "cell_type": "code",
   "execution_count": 7,
   "id": "eb50e32c",
   "metadata": {},
   "outputs": [
    {
     "name": "stdout",
     "output_type": "stream",
     "text": [
      "Name\t\tAge\tCountry\t\tCity\n",
      "Asabeneh\t250\tFinland\t\tHelsinki\n"
     ]
    }
   ],
   "source": [
    "print(\"Name\\t\\tAge\\tCountry\\t\\tCity\") #printing by using the tab space\n",
    "print(\"Asabeneh\\t250\\tFinland\\t\\tHelsinki\") #printing by using the tab spaces"
   ]
  },
  {
   "cell_type": "code",
   "execution_count": 8,
   "id": "d5090982",
   "metadata": {},
   "outputs": [
    {
     "name": "stdout",
     "output_type": "stream",
     "text": [
      "The area of a circle with radius 10 is 2826 meters square.\n"
     ]
    }
   ],
   "source": [
    "txt = \"The area of a circle with radius {radius:2d} is {area:3d} meters square.\" #text containing variables\n",
    "print(txt.format(radius = 10,area = int(3.14*radius*radius))) #using string formatting to print desired values"
   ]
  },
  {
   "cell_type": "code",
   "execution_count": 9,
   "id": "7127f617",
   "metadata": {},
   "outputs": [
    {
     "name": "stdout",
     "output_type": "stream",
     "text": [
      "Enter N:3\n",
      "Enter Weight:22\n",
      "Enter Weight:33\n",
      "Enter Weight:44\n",
      "Weights in lbs:  [22, 33, 44]\n",
      "[9.97898, 14.96847, 19.95796]\n"
     ]
    }
   ],
   "source": [
    "N = int(input(\"Enter N:\")) #taking no of weights as N\n",
    "list1 = [] #empty list to store weights in lbs\n",
    "while(N != 0): #while loop which helps us to take all the weights in lbs\n",
    "    m = int(input(\"Enter Weight:\"))\n",
    "    list1.append(m) #appending each weight to the list\n",
    "    N = N - 1 \n",
    "print(\"Weights in lbs: \",list1)\n",
    "list2 = [] #empty list to store weights in kgs\n",
    "N = len(list1)\n",
    "i = 0\n",
    "while(i != N): #while loop helps us to iterate through list1\n",
    "    list2.append(list1[i]*0.45359) #converts the weight from lbs to kgs and appends to list2\n",
    "    i = i + 1\n",
    "print(list2)"
   ]
  },
  {
   "cell_type": "code",
   "execution_count": 10,
   "id": "44d06040",
   "metadata": {},
   "outputs": [
    {
     "name": "stdout",
     "output_type": "stream",
     "text": [
      "Testing Data Output is :-  ['class B' 'class B' 'class B' 'class B']\n",
      "Confusion matrix :- \n",
      " [[0 2]\n",
      " [0 2]]\n",
      "Accuracy :-  0.5\n",
      "Sensitivity :-  0.0\n",
      "Specificity :-  1.0\n"
     ]
    }
   ],
   "source": [
    "import numpy as np  #importing numpy \n",
    "import pandas as pds  #importing pandas\n",
    "\n",
    "dataframes = pds.read_csv('dataset.csv') #reading the data from the dataset.csv file\n",
    "m = dataframes['feature'].values  #assigning feature values to m\n",
    "n = dataframes['class'].values   #assigning class values to n\n",
    "\n",
    "#dividing the data into two equal parts i.e training data and testing data\n",
    "from sklearn.model_selection import train_test_split  \n",
    "# features_training, features_test, label_training, label_test = train_test_split(m, n, random_state=0, train_size= 0.8 )\n",
    "# when the train_size is changed to 0.8 we will get the accuracy 1 \n",
    "features_training, features_test, label_training, label_test = train_test_split(m, n, random_state=0, train_size= 0.5 ) \n",
    "\n",
    "#data feature and labels are reshaped\n",
    "features_training = np.array(features_training).reshape(-1,1)\n",
    "features_test = np.array(features_test).reshape(-1,1)\n",
    "\n",
    "#Normalizing the data using StandardScaler from the library sklearn\n",
    "from sklearn.preprocessing import StandardScaler    \n",
    "normalization= StandardScaler()    \n",
    "features_training= normalization.fit_transform(features_training)    \n",
    "features_test= normalization.transform(features_test)  \n",
    "\n",
    "#fitting the training data into KNN classifier model using the library sklearn \n",
    "from sklearn.neighbors import KNeighborsClassifier  \n",
    "model= KNeighborsClassifier(n_neighbors=3 )  \n",
    "model.fit(features_training, label_training)\n",
    "\n",
    "#predicting the result of the test data  \n",
    "predict_class= model.predict(features_test)  \n",
    "print(\"Testing Data Output is :- \",predict_class)\n",
    "\n",
    "#creating the confusion matrix\n",
    "from sklearn.metrics import confusion_matrix  \n",
    "model_evaluation = confusion_matrix(label_test, predict_class) \n",
    "print(\"Confusion matrix :- \\n\",model_evaluation)\n",
    "\n",
    "#model accuracy\n",
    "count = sum(sum(model_evaluation))\n",
    "model_accuracy = ( model_evaluation[0,0] + model_evaluation[1,1] ) / count\n",
    "print('Accuracy :- ', model_accuracy )\n",
    "\n",
    "#model sensitivity\n",
    "model_sensitivity = model_evaluation[0,0] / ( model_evaluation[0,0] + model_evaluation[0,1] )\n",
    "print('Sensitivity :- ', model_sensitivity )\n",
    "\n",
    "#model specificity\n",
    "model_specificity = model_evaluation[1,1] / ( model_evaluation[1,0] + model_evaluation[1,1] )\n",
    "print('Specificity :- ', model_specificity)"
   ]
  },
  {
   "cell_type": "code",
   "execution_count": null,
   "id": "0b311837",
   "metadata": {},
   "outputs": [],
   "source": []
  }
 ],
 "metadata": {
  "kernelspec": {
   "display_name": "Python 3 (ipykernel)",
   "language": "python",
   "name": "python3"
  },
  "language_info": {
   "codemirror_mode": {
    "name": "ipython",
    "version": 3
   },
   "file_extension": ".py",
   "mimetype": "text/x-python",
   "name": "python",
   "nbconvert_exporter": "python",
   "pygments_lexer": "ipython3",
   "version": "3.9.12"
  }
 },
 "nbformat": 4,
 "nbformat_minor": 5
}
